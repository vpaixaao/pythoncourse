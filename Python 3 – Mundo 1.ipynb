{
 "cells": [
  {
   "cell_type": "code",
   "execution_count": 1,
   "metadata": {},
   "outputs": [
    {
     "name": "stdout",
     "output_type": "stream",
     "text": [
      "oi victor\n"
     ]
    }
   ],
   "source": [
    "# ex01\n",
    "nome = \"victor\"\n",
    "print(\"oi {}\".format(nome))"
   ]
  },
  {
   "cell_type": "code",
   "execution_count": 1,
   "metadata": {},
   "outputs": [
    {
     "name": "stdout",
     "output_type": "stream",
     "text": [
      "É um prazer te conhecer victor\n"
     ]
    }
   ],
   "source": [
    "# ex02\n",
    "nome = input(\"Digite o seu nome:\")\n",
    "print(\"É um prazer te conhecer {}\".format(nome))"
   ]
  },
  {
   "cell_type": "code",
   "execution_count": 3,
   "metadata": {},
   "outputs": [
    {
     "name": "stdout",
     "output_type": "stream",
     "text": [
      "A soma vale, 12\n"
     ]
    }
   ],
   "source": [
    "n1= input(\"digite um valor:\")\n",
    "n2= input(\"digite um valor:\")\n",
    "s = n1+n2\n",
    "print(\"A soma vale, {}\".format(s))"
   ]
  },
  {
   "cell_type": "code",
   "execution_count": 7,
   "metadata": {},
   "outputs": [
    {
     "name": "stdout",
     "output_type": "stream",
     "text": [
      "A soma vale, 5\n",
      "A soma entre 2 e 3 vale 5\n"
     ]
    }
   ],
   "source": [
    "# ex03\n",
    "\n",
    "n1= int(input(\"digite um valor:\"))\n",
    "n2= int(input(\"digite um valor:\"))\n",
    "s = n1+n2\n",
    "print(\"A soma vale, {}\".format(s))\n",
    "print(\"A soma entre {0} e {1} vale {2}\".format(n1, n2, s))"
   ]
  },
  {
   "cell_type": "code",
   "execution_count": 27,
   "metadata": {},
   "outputs": [
    {
     "name": "stdout",
     "output_type": "stream",
     "text": [
      "o tipo primitivo desse valor é  <class 'str'>\n",
      "só tem espaços? False\n",
      "é um numero? False\n",
      "esta em Maiuscula? True\n",
      "esta em Minuscula? False\n",
      "esta em capitalizada? False\n"
     ]
    }
   ],
   "source": [
    "# ex04\n",
    "\n",
    "# v = input(\"Digite algo:\")\n",
    "\n",
    "# if v.isnumeric():\n",
    "#     print(\"O que voce digitou foi um NUMERO\")\n",
    "\n",
    "\n",
    "# elif isinstance(v, str):\n",
    "#     print(\"O que voce digitou foi uma STRING\")\n",
    "\n",
    "v = input ( \"digite algo: \")\n",
    "print(\"o tipo primitivo desse valor é \", type(v))\n",
    "print(\"só tem espaços?\", v.isspace())\n",
    "print(\"é um numero?\", v.isnumeric())\n",
    "print(\"esta em Maiuscula?\", v.isupper())\n",
    "print(\"esta em Minuscula?\", v.islower())\n",
    "print(\"esta em capitalizada?\", v.istitle()) #nem em maiusculo nem minusculo ViCtOr =)\n",
    "\n",
    "\n"
   ]
  },
  {
   "cell_type": "code",
   "execution_count": 29,
   "metadata": {},
   "outputs": [
    {
     "name": "stdout",
     "output_type": "stream",
     "text": [
      "o seu sucessor é: 5\n",
      "o seu antecessor é: 3\n"
     ]
    }
   ],
   "source": [
    "# ex05 +1 -1\n",
    "v = int(input(\"digite um numero\"))\n",
    "print(\"o seu sucessor é: {}\".format(v+1))\n",
    "print(\"o seu antecessor é: {}\".format(v-1))"
   ]
  },
  {
   "cell_type": "code",
   "execution_count": 35,
   "metadata": {},
   "outputs": [
    {
     "name": "stdout",
     "output_type": "stream",
     "text": [
      "o seu dobro é: 18\n",
      "o seu triplo é: 27\n",
      "sua raiz quadrada é: 3.0\n"
     ]
    }
   ],
   "source": [
    "# ex06 mutiplicação e raiz\n",
    "\n",
    "v = int(input(\"digite um numero: \"))\n",
    "print(\"o seu dobro é: {}\".format(v*2))\n",
    "print(\"o seu triplo é: {}\".format(v*3))\n",
    "print(\"sua raiz quadrada é: {}\".format(v**0.5))"
   ]
  },
  {
   "cell_type": "code",
   "execution_count": 38,
   "metadata": {},
   "outputs": [
    {
     "name": "stdout",
     "output_type": "stream",
     "text": [
      "a media entre a nota 4.0 e 3.0 é igual a 3.5\n"
     ]
    }
   ],
   "source": [
    "# ex07 Media aritimetica\n",
    "n1 = float(input(\"digite a 1° nota: \"))\n",
    "n2 = float(input(\"digite a 2° nota: \"))\n",
    "n3 = (n1+n2)/2\n",
    "print(\"a media entre a nota {:.1f} e {:.1f} é igual a {:.1f}\".format(n1, n2, n3)) #utilizando {:.1f} já arredonda "
   ]
  },
  {
   "cell_type": "code",
   "execution_count": 39,
   "metadata": {},
   "outputs": [
    {
     "name": "stdout",
     "output_type": "stream",
     "text": [
      "A medida de 3.0 m corresponde a:\n",
      "0.003km\n",
      "0.03hm\n",
      "0.3am\n",
      "30.0dm\n",
      "300.0cm\n",
      "3000.0mm\n"
     ]
    }
   ],
   "source": [
    "# ex08 Conversor de medidas\n",
    "v = float(input(\"digite uma medida em metros: \"))\n",
    "print(\"A medida de {} m corresponde a:\".format(v))\n",
    "print(\"{}km\".format(v/1000))\n",
    "print(\"{}hm\".format(v/100))\n",
    "print(\"{}am\".format(v/10))\n",
    "print(\"{}dm\".format(v*10))\n",
    "print(\"{}cm\".format(v*100))\n",
    "print(\"{}mm\".format(v*1000))"
   ]
  },
  {
   "cell_type": "code",
   "execution_count": 42,
   "metadata": {},
   "outputs": [
    {
     "name": "stdout",
     "output_type": "stream",
     "text": [
      "------------------\n",
      "4 x  1 = 4\n",
      "4 x  2 = 8\n",
      "4 x  3 = 12\n",
      "4 x  4 = 16\n",
      "4 x  5 = 20\n",
      "4 x  6 = 24\n",
      "4 x  7 = 28\n",
      "4 x  8 = 32\n",
      "4 x  9 = 36\n",
      "4 x 10 = 40\n",
      "------------------\n"
     ]
    }
   ],
   "source": [
    "# ex09 Tabuada\n",
    "\n",
    "v = int(input(\"digite um numero para ver sua tabuada: \"))\n",
    "print(\"------------------\")\n",
    "print(\"{} x  1 = {}\".format(v, v*1))\n",
    "print(\"{} x  2 = {}\".format(v, v*2))\n",
    "print(\"{} x  3 = {}\".format(v, v*3))\n",
    "print(\"{} x  4 = {}\".format(v, v*4))\n",
    "print(\"{} x  5 = {}\".format(v, v*5))\n",
    "print(\"{} x  6 = {}\".format(v, v*6))\n",
    "print(\"{} x  7 = {}\".format(v, v*7))\n",
    "print(\"{} x  8 = {}\".format(v, v*8))\n",
    "print(\"{} x  9 = {}\".format(v, v*9))\n",
    "print(\"{} x 10 = {}\".format(v, v*10))\n",
    "print(\"------------------\")\n"
   ]
  },
  {
   "cell_type": "code",
   "execution_count": 47,
   "metadata": {},
   "outputs": [
    {
     "name": "stdout",
     "output_type": "stream",
     "text": [
      "Com R$19.88 você pode comprar U$6.08.\n"
     ]
    }
   ],
   "source": [
    "# ex10 Quantos dolares consigo comprar. ( valor do dolar R$ 3,27 )\n",
    "v = float(input(\"quanto dinheiro voce tem na carteira?: \"))\n",
    "d = v/3.27\n",
    "print(\"Com R${} você pode comprar U${:.2f}.\".format(v, d))\n"
   ]
  },
  {
   "cell_type": "code",
   "execution_count": 48,
   "metadata": {},
   "outputs": [
    {
     "name": "stdout",
     "output_type": "stream",
     "text": [
      "Sua parede tem a dimensão de 2.5x1.75m tendo a area de 4.375m²\n",
      "Para pintar essa parede, voece precisará de 2.1875l de tinta\n"
     ]
    }
   ],
   "source": [
    "# ex011:Exercício Python 11: Faça um programa que leia a largura e a altura de uma parede em metros,\n",
    "# calcule a sua área e a quantidade de tinta necessária para pintá-la, sabendo que cada litro de \n",
    "# tinta pinta uma área de 2 metros quadrados.\n",
    "\n",
    "l = float(input(\"Digite a largura da parede: \"))\n",
    "h = float(input(\"Digite a altura da parede: \"))\n",
    "a = l*h\n",
    "print(\"Sua parede tem a dimensão de {}x{}m tendo a area de {}m²\".format(l, h, a))\n",
    "print(\"Para pintar essa parede, voece precisará de {:.4f}l de tinta\".format(a/2))\n",
    "\n",
    "\n"
   ]
  },
  {
   "cell_type": "code",
   "execution_count": 50,
   "metadata": {},
   "outputs": [
    {
     "name": "stdout",
     "output_type": "stream",
     "text": [
      "o produto que custava R$100.00, na promoção com desconto de 5% vai custr R$95.00\n"
     ]
    }
   ],
   "source": [
    "# ex012:Faça um algoritmo que leia o preço de um produto e mostre seu novo preço, com 5% de desconto.\n",
    "v = float(input(\"Digite o preço do produto: \"))\n",
    "d = v - ((5*v)/100)\n",
    "print(\"o produto que custava R${:.2f}, na promoção com desconto de 5% vai custr R${:.2f}\".format(v, d))\n"
   ]
  },
  {
   "cell_type": "code",
   "execution_count": 52,
   "metadata": {},
   "outputs": [
    {
     "name": "stdout",
     "output_type": "stream",
     "text": [
      "O salario do funcionario é R$100.00, com 15% de aumento ele ira ganahr R$115.00\n"
     ]
    }
   ],
   "source": [
    "# ex013: Faça um algoritmo que leia o salário de um funcionário e mostre seu novo salário, \n",
    "# com 15% de aumento.\n",
    "s = float(input(\"Digite o salario do funcionario: \"))\n",
    "a = s + ((15*s)/100)\n",
    "print(\"O salario do funcionario é R${:.2f}, com 15% de aumento ele ira ganahr R${:.2f}\".format(s, a))\n"
   ]
  },
  {
   "cell_type": "code",
   "execution_count": 58,
   "metadata": {},
   "outputs": [
    {
     "name": "stdout",
     "output_type": "stream",
     "text": [
      "A temperatura de 31.50°C, corresponde a 88.70°F\n"
     ]
    }
   ],
   "source": [
    "# ex014: Escreva um programa que converta uma temperatura digitando em graus \n",
    "# Celsius e converta para graus Fahrenheit.\n",
    "\n",
    "s = float(input(\"Digite a temperatura em graus celcius : \"))\n",
    "f = (s * 9/5) + 32\n",
    "print(\"A temperatura de {:.2f}°C, corresponde a {:.2f}°F\".format(s, f))\n"
   ]
  },
  {
   "cell_type": "code",
   "execution_count": 60,
   "metadata": {},
   "outputs": [
    {
     "name": "stdout",
     "output_type": "stream",
     "text": [
      "O valor a ser cobrado pelo aluguel do carro é de 588.00!\n"
     ]
    }
   ],
   "source": [
    "# ex015: Escreva um programa que pergunte a quantidade de Km percorridos por um carro alugado e a \n",
    "# quantidade de dias pelos quais ele foi alugado. Calcule o preço a pagar, sabendo que o carro \n",
    "# custa R$60 por dia e R$0,15 por Km rodado.\n",
    "\n",
    "x = float(input(\"Qual a quantidade de km percorridos: \"))\n",
    "y = float(input(\"Qual a quantidade de dias alugados: \"))\n",
    "print(\"O valor a ser cobrado pelo aluguel do carro é de {:.2f}!\".format((x * 0.15)+(y * 60)))\n",
    "\n"
   ]
  },
  {
   "cell_type": "code",
   "execution_count": 3,
   "metadata": {},
   "outputs": [
    {
     "name": "stdout",
     "output_type": "stream",
     "text": [
      "A raiz de 9 é igual a 3.0\n"
     ]
    }
   ],
   "source": [
    "# AULA 8A\n",
    "# import\n",
    "# ou import math ( importa tudo =) )\n",
    "from math import sqrt \n",
    "num = int(input(\"digite um numero: \"))\n",
    "raiz = math.sqrt(num)\n",
    "print(\"A raiz de {} é igual a {}\".format(num, raiz))"
   ]
  },
  {
   "cell_type": "code",
   "execution_count": 17,
   "metadata": {},
   "outputs": [
    {
     "name": "stdout",
     "output_type": "stream",
     "text": [
      "a  numero 5.55 tem a porção inteira é igual a 5\n"
     ]
    }
   ],
   "source": [
    "# ex016 : Crie um programa qua laia um numaro Real qualquer pelo teclado e mostre na \n",
    "# tela a sua parte inteira\n",
    "# math.floor arredonda pra baixo e math.ceil\n",
    "import math\n",
    "x = float(input(\"digite um numero: \"))\n",
    "print(\"a  numero {} tem a porção inteira é igual a {}\".format(x, math.trunc(x)))\n"
   ]
  },
  {
   "cell_type": "code",
   "execution_count": 13,
   "metadata": {},
   "outputs": [
    {
     "name": "stdout",
     "output_type": "stream",
     "text": [
      "Um triangulo retangulo com C.O = 3.0 e C.A = 4.0 tem a hipotenusa igual a 5.0\n"
     ]
    }
   ],
   "source": [
    "# ex017 :  Faça um programa que leia o comprimento do cateto oposto e do cateto\n",
    "# adjacente de um triangulo retangulo e calcule sua hipotenusa.\n",
    "import math\n",
    "x = float(input(\"digite o lado do cateto oposto: \"))\n",
    "y = float(input(\"digite o lado do cateto adjacentese: \"))\n",
    "z = ((x**2)+(y**2))\n",
    "# poderia ter utilizado\n",
    "# h = math.hypot(x, y)\n",
    "print(\"Um triangulo retangulo com C.O = {} e C.A = {} tem a hipotenusa igual a {}\".format(x, y, math.sqrt(z)))\n"
   ]
  },
  {
   "cell_type": "code",
   "execution_count": 25,
   "metadata": {},
   "outputs": [
    {
     "name": "stdout",
     "output_type": "stream",
     "text": [
      "O angulo 45.0 tem o SEN de 0.71\n",
      "O angulo 45.0 tem o COS de 0.71\n",
      "O angulo 45.0 tem o TAN de 1.00\n"
     ]
    }
   ],
   "source": [
    "# ex018 : faça um programa que leia um ângulo qualqur e mostre na tela o valor\n",
    "# do seno, consseno e tangente desse angulo.\n",
    "import match\n",
    "x = float(input(\"Digite um ângulo: \"))\n",
    "# transformando em rad\n",
    "v = math.radians(x)\n",
    "print(\"O angulo {} tem o SEN de {:.2f}\".format(x, math.sin(v)))\n",
    "print(\"O angulo {} tem o COS de {:.2f}\".format(x, math.cos(v)))\n",
    "print(\"O angulo {} tem o TAN de {:.2f}\".format(x, math.tan(v)))\n"
   ]
  },
  {
   "cell_type": "code",
   "execution_count": 27,
   "metadata": {},
   "outputs": [
    {
     "name": "stdout",
     "output_type": "stream",
     "text": [
      "digite o nome dos quatro alunos presentes na turma: \n",
      "o aluno felizardo para apagar o quadro é o : d\n"
     ]
    }
   ],
   "source": [
    "# ex019 : Um professor quer sortrar um dos seus quatro alunos para apagar o quadro. Faça\n",
    "# um programa qua ajude ela lendo o nome dalas e escrevendo o nome do escolhido.\n",
    "import random\n",
    "print(\"digite o nome dos quatro alunos presentes na turma: \")\n",
    "x = str(input(\"digite o nome do primeiro aluno: \"))\n",
    "y = str(input(\"digite o nome do segundo aluno: \"))\n",
    "z = str(input(\"digite o nome do terceiro aluno: \"))\n",
    "v = str(input(\"digite o nome do quarto aluno: \"))\n",
    "list = [x, y, z, v]\n",
    "esolhido = random.choice(list)\n",
    "print(\"o aluno felizardo para apagar o quadro é o : {}\".format(esolhido))"
   ]
  },
  {
   "cell_type": "code",
   "execution_count": 34,
   "metadata": {},
   "outputs": [
    {
     "name": "stdout",
     "output_type": "stream",
     "text": [
      "digite o nome dos quatro alunos presentes na turma: \n",
      "o aluno felizardo para apagar o quadro é o :\n",
      "['d', 'c', 'a', 'b']\n"
     ]
    }
   ],
   "source": [
    "# ex 020: O mesmo professor quer sortear a ordem de apresentação de trabalho dos alunos.\n",
    "# faça  un prograna que leia o nome dos quatro alunos e mostre a ordem de apresentação.\n",
    "import random\n",
    "print(\"digite o nome dos quatro alunos presentes na turma: \")\n",
    "x = str(input(\"digite o nome do primeiro aluno: \"))\n",
    "y = str(input(\"digite o nome do segundo aluno: \"))\n",
    "z = str(input(\"digite o nome do terceiro aluno: \"))\n",
    "v = str(input(\"digite o nome do quarto aluno: \"))\n",
    "list = [x, y, z, v]\n",
    "random.shuffle(list)\n",
    "print(\"o aluno felizardo para apagar o quadro é o :\")\n",
    "print(list)\n"
   ]
  },
  {
   "cell_type": "code",
   "execution_count": 41,
   "metadata": {},
   "outputs": [
    {
     "ename": "AttributeError",
     "evalue": "module 'pygame.mixer' has no attribute 'wait'",
     "output_type": "error",
     "traceback": [
      "\u001b[1;31m---------------------------------------------------------------------------\u001b[0m",
      "\u001b[1;31mAttributeError\u001b[0m                            Traceback (most recent call last)",
      "\u001b[1;32m~\\AppData\\Local\\Temp\\ipykernel_14428\\3056333418.py\u001b[0m in \u001b[0;36m<module>\u001b[1;34m\u001b[0m\n\u001b[0;32m      5\u001b[0m \u001b[0mpygame\u001b[0m\u001b[1;33m.\u001b[0m\u001b[0mmixer\u001b[0m\u001b[1;33m.\u001b[0m\u001b[0mmusic\u001b[0m\u001b[1;33m.\u001b[0m\u001b[0mload\u001b[0m\u001b[1;33m(\u001b[0m\u001b[1;34m'ex021.mp3'\u001b[0m\u001b[1;33m)\u001b[0m\u001b[1;33m\u001b[0m\u001b[1;33m\u001b[0m\u001b[0m\n\u001b[0;32m      6\u001b[0m \u001b[0mpygame\u001b[0m\u001b[1;33m.\u001b[0m\u001b[0mmixer\u001b[0m\u001b[1;33m.\u001b[0m\u001b[0mmusic\u001b[0m\u001b[1;33m.\u001b[0m\u001b[0mplay\u001b[0m\u001b[1;33m(\u001b[0m\u001b[1;33m)\u001b[0m\u001b[1;33m\u001b[0m\u001b[1;33m\u001b[0m\u001b[0m\n\u001b[1;32m----> 7\u001b[1;33m \u001b[0mpygame\u001b[0m\u001b[1;33m.\u001b[0m\u001b[0mmixer\u001b[0m\u001b[1;33m.\u001b[0m\u001b[0mwait\u001b[0m\u001b[1;33m(\u001b[0m\u001b[1;33m)\u001b[0m\u001b[1;33m\u001b[0m\u001b[1;33m\u001b[0m\u001b[0m\n\u001b[0m",
      "\u001b[1;31mAttributeError\u001b[0m: module 'pygame.mixer' has no attribute 'wait'"
     ]
    }
   ],
   "source": [
    "#ex 021: faça um programa em python que abra e reproduza um audio mp3.\n",
    "import pygame\n",
    "pygame.init()\n",
    "pygame.mixer.init()\n",
    "pygame.mixer.music.load('ex021.mp3')\n",
    "pygame.mixer.music.play()\n",
    "pygame.mixer.wait()"
   ]
  },
  {
   "attachments": {},
   "cell_type": "markdown",
   "metadata": {},
   "source": [
    "##CARACTERES\n",
    "o ultimo numero do rang nao entra!"
   ]
  },
  {
   "cell_type": "code",
   "execution_count": 71,
   "metadata": {},
   "outputs": [
    {
     "name": "stdout",
     "output_type": "stream",
     "text": [
      "V\n",
      "Vide\n",
      "Video Python\n",
      "VdoPto\n",
      "Curso\n",
      "Python\n",
      "Curso em Video Python\n"
     ]
    },
    {
     "data": {
      "text/plain": [
       "'C-u-r-s-o- -e-m- -V-i-d-e-o- -P-y-t-h-o-n'"
      ]
     },
     "execution_count": 71,
     "metadata": {},
     "output_type": "execute_result"
    }
   ],
   "source": [
    "frase =\"Curso em Video Python\"\n",
    "\n",
    "# fatiamento = pegar pedaços\n",
    "\n",
    "print(frase[9])\n",
    "# printa a letra V\n",
    "\n",
    "print(frase[9:13])\n",
    "# prita vide\n",
    "\n",
    "print(frase[9:21])\n",
    "# prita video pyton\n",
    "\n",
    "print(frase[9:21:2])\n",
    "# printa vdoptn ( do 9 ao 21 pulando de dois em dois)\n",
    "\n",
    "print(frase[:5])\n",
    "# printa curso ( [:%] o vazio indica des do inicio )\n",
    "\n",
    "print(frase[15:])\n",
    "# printa python ( [%:] o vazio indica o final )\n",
    "\n",
    "frase[9::3]\n",
    "# printa vepo (do 9° caractere até o final pulando de 3 em 3)\n",
    "\n",
    "len(frase)\n",
    "# len vem de lenght ( compriment da frase )\n",
    "\n",
    "frase.count(\"o\")\n",
    "# printa 3\n",
    "\n",
    "frase.count(\"o\", 0, 13)\n",
    "# printa 1\n",
    "\n",
    "frase.find(\"deo\")\n",
    "# printa o começo do deo ( 11 )\n",
    "\n",
    "\"curso\" in frase\n",
    "# printa true\n",
    "\n",
    "frase.replace(\"Python\", \"android\")\n",
    "print(frase)\n",
    "\n",
    "frase.upper()\n",
    "# poe tuod em maiusculo\n",
    "\n",
    "frase.lower()\n",
    "# poe tuod em minusculo\n",
    "\n",
    "frase.capitalize()\n",
    "# poe a 1 letra da frase em maisculo\n",
    "\n",
    "frase.title()\n",
    "#pega todos os caracteres depois de espações e poe em MAIUSCULO\n",
    "\n",
    "frase1 = \"   Aprendendo Python  \"\n",
    "\n",
    "frase1.strip()\n",
    "# retira os espaços no inicio e fim !\n",
    "\n",
    "frase1.rstrip()\n",
    "# tira os espaços a direita\n",
    "\n",
    "frase1.lstrip()\n",
    "# tira os espaços a esquerda\n",
    "\n",
    "frase.split()\n",
    "# splita cada palavra gerando uma lista\n",
    "\n",
    "\"-\".join(frase)\n",
    "\n"
   ]
  },
  {
   "cell_type": "code",
   "execution_count": 1,
   "metadata": {},
   "outputs": [
    {
     "name": "stdout",
     "output_type": "stream",
     "text": [
      "Numa folha qualquer\n",
      "Eu desenho um sol amarelo\n",
      "E com cinco ou seis retas\n",
      "É fácil fazer um castelo\n",
      "Com o lápis em torno da mão\n",
      "E me dou uma luva\n",
      "E se faço chover\n",
      "Com dois riscos tenho um guarda-chuva\n"
     ]
    }
   ],
   "source": [
    "print(\"\"\"Numa folha qualquer\n",
    "Eu desenho um sol amarelo\n",
    "E com cinco ou seis retas\n",
    "É fácil fazer um castelo\n",
    "Com o lápis em torno da mão\n",
    "E me dou uma luva\n",
    "E se faço chover\n",
    "Com dois riscos tenho um guarda-chuva\"\"\")"
   ]
  },
  {
   "cell_type": "code",
   "execution_count": 77,
   "metadata": {},
   "outputs": [
    {
     "name": "stdout",
     "output_type": "stream",
     "text": [
      "Curso em Video Android\n",
      "e\n"
     ]
    }
   ],
   "source": [
    "frase = \"Curso em Video Python\"\n",
    "print(frase.replace(\"Python\", \"Android\"))\n",
    "dividio = frase.split()\n",
    "print(dividio[2][3])\n"
   ]
  },
  {
   "cell_type": "code",
   "execution_count": 96,
   "metadata": {},
   "outputs": [
    {
     "name": "stdout",
     "output_type": "stream",
     "text": [
      "Seu nome completo com todas as letras maiusculas fica assim: ASE QWE\n",
      "Seu nome completo com todas as letras minusculas fica assim: ase qwe\n",
      "seu nome tem 6 letras\n",
      "O seu primeiro nome tem: 3 letras\n",
      "O seu primeiro nome tem: 3 letras\n"
     ]
    }
   ],
   "source": [
    "# ex022 : Exercício Python 22: Crie um programa que leia o nome completo de uma pessoa e mostre:\n",
    "# – O nome com todas as letras maiúsculas e minúsculas.\n",
    "# – Quantas letras ao todo (sem considerar espaços).\n",
    "# – Quantas letras tem o primeiro nome.\n",
    "\n",
    "name = input(str(\"Digite seu nome completo: \")).strip()\n",
    "print(\"Seu nome completo com todas as letras maiusculas fica assim: {}\".format(name.upper()))\n",
    "print(\"Seu nome completo com todas as letras minusculas fica assim: {}\".format(name.lower()))\n",
    "print(\"seu nome tem {} letras\".format(len(name) - name.count(\" \")))\n",
    "print(\"O seu primeiro nome tem: {} letras\".format(len(name.split()[0])))\n",
    "# ou\n",
    "print(\"O seu primeiro nome tem: {} letras\".format(name.find(\" \")))\n"
   ]
  },
  {
   "cell_type": "code",
   "execution_count": 99,
   "metadata": {},
   "outputs": [
    {
     "name": "stdout",
     "output_type": "stream",
     "text": [
      "Unidade: 4\n",
      "Dezena: 2\n",
      "Centena: 1\n",
      "Milhar: 0\n"
     ]
    }
   ],
   "source": [
    "# ex023: Exercício Python 23: Faça um programa que leia um número de 0 a 9999 e mostre na tela \n",
    "# cada um dos dígitos separados.\n",
    "\n",
    "num = int(input(\"digite um numero de 0 até 9999\"))\n",
    "unidade = num // 1 % 10\n",
    "dezena = num // 10 % 10\n",
    "centena = num // 100 % 10\n",
    "milhar = num // 1000 % 10\n",
    "\n",
    "# Exibindo os dígitos\n",
    "print(\"Unidade: {}\".format(unidade))\n",
    "print(\"Dezena: {}\".format(dezena))\n",
    "print(\"Centena: {}\".format(centena))\n",
    "print(\"Milhar: {}\".format(milhar))"
   ]
  },
  {
   "cell_type": "code",
   "execution_count": 21,
   "metadata": {},
   "outputs": [
    {
     "name": "stdout",
     "output_type": "stream",
     "text": [
      "o nome da sua cidade começa com Santo? True\n"
     ]
    }
   ],
   "source": [
    "# ex024: Crie um programa que leia o nome de uma cidade diga se\n",
    "# ela começa ou não com o nome “SANTO”.\n",
    "\n",
    "name = str(input(\"digite a cidade que voce nasceu: \")).strip()\n",
    "print(\"o nome da sua cidade começa com Santo? {}\".format(name[:5].upper() == \"SANTO\" ))"
   ]
  },
  {
   "cell_type": "code",
   "execution_count": 18,
   "metadata": {},
   "outputs": [
    {
     "name": "stdout",
     "output_type": "stream",
     "text": [
      "Seu nome tem silva? True\n"
     ]
    }
   ],
   "source": [
    "# ex025: Crie um programa que leia o nome de uma pessoa e diga se ela tem “SILVA” no nome.\n",
    "name = str(input(\"digite o seu nome: \")).strip()\n",
    "print(\"Seu nome tem silva? {}\".format(\"silva\" in name.lower()))\n"
   ]
  },
  {
   "cell_type": "code",
   "execution_count": 33,
   "metadata": {},
   "outputs": [
    {
     "ename": "TypeError",
     "evalue": "'str' object is not callable",
     "output_type": "error",
     "traceback": [
      "\u001b[1;31m---------------------------------------------------------------------------\u001b[0m",
      "\u001b[1;31mTypeError\u001b[0m                                 Traceback (most recent call last)",
      "\u001b[1;32m~\\AppData\\Local\\Temp\\ipykernel_11768\\4179767335.py\u001b[0m in \u001b[0;36m<module>\u001b[1;34m\u001b[0m\n\u001b[0;32m      4\u001b[0m \u001b[1;33m\u001b[0m\u001b[0m\n\u001b[0;32m      5\u001b[0m \u001b[0mx\u001b[0m \u001b[1;33m=\u001b[0m \u001b[0mstr\u001b[0m\u001b[1;33m(\u001b[0m\u001b[0minput\u001b[0m\u001b[1;33m(\u001b[0m\u001b[1;34m\"Digite uma frase: \"\u001b[0m\u001b[1;33m)\u001b[0m\u001b[1;33m)\u001b[0m\u001b[1;33m.\u001b[0m\u001b[0mstrip\u001b[0m\u001b[1;33m(\u001b[0m\u001b[1;33m)\u001b[0m\u001b[1;33m.\u001b[0m\u001b[0mupper\u001b[0m\u001b[1;33m(\u001b[0m\u001b[1;33m)\u001b[0m\u001b[1;33m\u001b[0m\u001b[1;33m\u001b[0m\u001b[0m\n\u001b[1;32m----> 6\u001b[1;33m \u001b[0mprint\u001b[0m\u001b[1;33m(\u001b[0m\u001b[1;34m\"A letra A aparece {} vezes\"\u001b[0m\u001b[1;33m.\u001b[0m\u001b[0mformat\u001b[0m\u001b[1;33m(\u001b[0m\u001b[0mx\u001b[0m\u001b[1;33m.\u001b[0m\u001b[0mcount\u001b[0m\u001b[1;33m(\u001b[0m\u001b[1;34m\"A\"\u001b[0m\u001b[1;33m)\u001b[0m\u001b[1;33m)\u001b[0m\u001b[1;33m)\u001b[0m\u001b[1;33m\u001b[0m\u001b[1;33m\u001b[0m\u001b[0m\n\u001b[0m\u001b[0;32m      7\u001b[0m \u001b[0mprint\u001b[0m\u001b[1;33m(\u001b[0m\u001b[1;34m\"A letra A aparece pela primeira vez na posição {}\"\u001b[0m\u001b[1;33m.\u001b[0m\u001b[0mformat\u001b[0m\u001b[1;33m(\u001b[0m\u001b[0mx\u001b[0m\u001b[1;33m.\u001b[0m\u001b[0mfind\u001b[0m\u001b[1;33m(\u001b[0m\u001b[1;34m\"A\"\u001b[0m\u001b[1;33m)\u001b[0m \u001b[1;33m+\u001b[0m \u001b[1;36m1\u001b[0m\u001b[1;33m)\u001b[0m\u001b[1;33m)\u001b[0m\u001b[1;33m\u001b[0m\u001b[1;33m\u001b[0m\u001b[0m\n\u001b[0;32m      8\u001b[0m \u001b[0mprint\u001b[0m\u001b[1;33m(\u001b[0m\u001b[1;34m\"A letra A aparece pela última vez na posição {}\"\u001b[0m\u001b[1;33m.\u001b[0m\u001b[0mformat\u001b[0m\u001b[1;33m(\u001b[0m\u001b[0mx\u001b[0m\u001b[1;33m.\u001b[0m\u001b[0mrfind\u001b[0m\u001b[1;33m(\u001b[0m\u001b[1;34m\"A\"\u001b[0m\u001b[1;33m)\u001b[0m \u001b[1;33m+\u001b[0m \u001b[1;36m1\u001b[0m\u001b[1;33m)\u001b[0m\u001b[1;33m)\u001b[0m\u001b[1;33m\u001b[0m\u001b[1;33m\u001b[0m\u001b[0m\n",
      "\u001b[1;31mTypeError\u001b[0m: 'str' object is not callable"
     ]
    }
   ],
   "source": [
    "# ex026: : Faça um programa que leia uma frase pelo teclado e mostre quantas \n",
    "# vezes aparece a letra “A”, em que posição ela aparece a primeira vez e em \n",
    "# que posição ela aparece a última vez.\n",
    "\n",
    "x = str(input(\"Digite uma frase: \")).strip().upper()\n",
    "print(\"A letra A aparece {} vezes\".format(x.count(\"A\")))\n",
    "print(\"A letra A aparece pela primeira vez na posição {}\".format(x.find(\"A\") + 1))\n",
    "print(\"A letra A aparece pela última vez na posição {}\".format(x.rfind(\"A\") + 1))\n",
    "\n"
   ]
  }
 ],
 "metadata": {
  "kernelspec": {
   "display_name": "base",
   "language": "python",
   "name": "python3"
  },
  "language_info": {
   "codemirror_mode": {
    "name": "ipython",
    "version": 3
   },
   "file_extension": ".py",
   "mimetype": "text/x-python",
   "name": "python",
   "nbconvert_exporter": "python",
   "pygments_lexer": "ipython3",
   "version": "3.9.13"
  },
  "orig_nbformat": 4
 },
 "nbformat": 4,
 "nbformat_minor": 2
}
